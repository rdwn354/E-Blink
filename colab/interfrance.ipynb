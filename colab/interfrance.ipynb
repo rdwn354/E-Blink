{
  "nbformat": 4,
  "nbformat_minor": 0,
  "metadata": {
    "colab": {
      "provenance": [],
      "gpuType": "T4",
      "authorship_tag": "ABX9TyPD+82nPlPviOEVFPdc6p4p",
      "include_colab_link": true
    },
    "kernelspec": {
      "name": "python3",
      "display_name": "Python 3"
    },
    "language_info": {
      "name": "python"
    },
    "accelerator": "GPU"
  },
  "cells": [
    {
      "cell_type": "markdown",
      "metadata": {
        "id": "view-in-github",
        "colab_type": "text"
      },
      "source": [
        "<a href=\"https://colab.research.google.com/github/rdwn354/E-Blink/blob/master/colab/interfrance.ipynb\" target=\"_parent\"><img src=\"https://colab.research.google.com/assets/colab-badge.svg\" alt=\"Open In Colab\"/></a>"
      ]
    },
    {
      "cell_type": "code",
      "execution_count": null,
      "metadata": {
        "colab": {
          "base_uri": "https://localhost:8080/"
        },
        "id": "g2zixOUm1UUw",
        "outputId": "c5484c5a-2ac5-4787-c1c9-dba12bc0458a"
      },
      "outputs": [
        {
          "output_type": "stream",
          "name": "stdout",
          "text": [
            "Mounted at /content/gdrive\n"
          ]
        }
      ],
      "source": [
        "from google.colab import drive\n",
        "\n",
        "drive.mount('/content/gdrive')"
      ]
    },
    {
      "cell_type": "code",
      "source": [
        "import numpy as np\n",
        "import tensorflow as tf\n",
        "\n",
        "from keras.preprocessing.image import load_img, img_to_array\n",
        "from time import time\n",
        "from matplotlib import pyplot as plt\n",
        "import os"
      ],
      "metadata": {
        "id": "MDS6DMls1w85"
      },
      "execution_count": null,
      "outputs": []
    },
    {
      "cell_type": "code",
      "source": [
        "# path dataset\n",
        "open = \"/content/gdrive/MyDrive/datasets/dataset_modified/iman/dataset_iman_21.jpg\"\n",
        "close = \"/content/gdrive/MyDrive/datasets/dataset_modified/iman/dataset_iman_2.jpg\""
      ],
      "metadata": {
        "id": "iZNovpKW2MRc"
      },
      "execution_count": null,
      "outputs": []
    },
    {
      "cell_type": "code",
      "source": [
        "image = load_img(close, target_size=(224,224))\n",
        "image = img_to_array(image)\n",
        "image = image.reshape((1, image.shape[0], image.shape[1], image.shape[2]))\n",
        "print(image.shape)"
      ],
      "metadata": {
        "colab": {
          "base_uri": "https://localhost:8080/"
        },
        "id": "Pe7ZKYXt2oBX",
        "outputId": "4e69f151-ac86-404f-be2e-3424d0031f4e"
      },
      "execution_count": null,
      "outputs": [
        {
          "output_type": "stream",
          "name": "stdout",
          "text": [
            "(1, 224, 224, 3)\n"
          ]
        }
      ]
    },
    {
      "cell_type": "markdown",
      "source": [
        "## PREDICTION USING H5\n"
      ],
      "metadata": {
        "id": "3ZUMvIlN7H7F"
      }
    },
    {
      "cell_type": "code",
      "source": [
        "keras_model_size = os.path.getsize('/content/gdrive/MyDrive/datasets/model/model_EBlink.h5')/1048576\n",
        "print(\"keras model size : \", keras_model_size)"
      ],
      "metadata": {
        "colab": {
          "base_uri": "https://localhost:8080/"
        },
        "id": "arg6cepC3NlP",
        "outputId": "e71a62ef-e850-47ee-b9fa-de865ea1680c"
      },
      "execution_count": null,
      "outputs": [
        {
          "output_type": "stream",
          "name": "stdout",
          "text": [
            "keras model size :  31.901939392089844\n"
          ]
        }
      ]
    },
    {
      "cell_type": "code",
      "source": [
        "model = tf.keras.models.load_model('/content/gdrive/MyDrive/datasets/model/model_EBlink.h5')"
      ],
      "metadata": {
        "id": "XjsHRqaH32uk"
      },
      "execution_count": null,
      "outputs": []
    },
    {
      "cell_type": "code",
      "source": [
        "time_before = time()\n",
        "keras_prediction = model.predict(image)\n",
        "time_after = time()\n",
        "total_keras_time = time_after - time_before\n",
        "print(\"total predifction time : \", total_keras_time)\n",
        "print(\"prediction image : \", keras_prediction, \"1 = close, 0 = open\")"
      ],
      "metadata": {
        "colab": {
          "base_uri": "https://localhost:8080/"
        },
        "id": "4GXq7lLj3-Oy",
        "outputId": "75afb066-f3ff-4157-ef28-b9d3fc78e799"
      },
      "execution_count": null,
      "outputs": [
        {
          "output_type": "stream",
          "name": "stdout",
          "text": [
            "1/1 [==============================] - 2s 2s/step\n",
            "total predifction time :  2.2072315216064453\n",
            "prediction image :  [[1.]] 1 = close, 0 = open\n"
          ]
        }
      ]
    },
    {
      "cell_type": "markdown",
      "source": [
        "## PREDICTION USING TFLITE WITOUT OPT\n"
      ],
      "metadata": {
        "id": "cGu_2Z2D7M6H"
      }
    },
    {
      "cell_type": "code",
      "source": [
        "tflite_path = os.path.getsize('/content/gdrive/MyDrive/datasets/model/model_EBlink.tflite')/1048576\n",
        "print(\"tflite model size without opt : \", tflite_path)"
      ],
      "metadata": {
        "colab": {
          "base_uri": "https://localhost:8080/"
        },
        "id": "1cH0kaje4iUE",
        "outputId": "af6fe8b4-f236-4e12-df54-8211ee0dcb67"
      },
      "execution_count": null,
      "outputs": [
        {
          "output_type": "stream",
          "name": "stdout",
          "text": [
            "tflite model size without opt :  10.621261596679688\n"
          ]
        }
      ]
    },
    {
      "cell_type": "code",
      "source": [
        "tflite_model_path = '/content/gdrive/MyDrive/datasets/model/model_EBlink.tflite'\n",
        "interpreter = tf.lite.Interpreter(model_path=tflite_model_path)\n",
        "interpreter.allocate_tensors()"
      ],
      "metadata": {
        "id": "1FoSsysz42Nj"
      },
      "execution_count": null,
      "outputs": []
    },
    {
      "cell_type": "code",
      "source": [
        "input_details = interpreter.get_input_details()\n",
        "output_details = interpreter.get_output_details()\n",
        "input_shape = input_details[0]['shape']\n",
        "print(input_shape)"
      ],
      "metadata": {
        "colab": {
          "base_uri": "https://localhost:8080/"
        },
        "id": "j7ijqF344xn9",
        "outputId": "1b1a2a27-4461-4d75-c79f-49ae77b44be8"
      },
      "execution_count": null,
      "outputs": [
        {
          "output_type": "stream",
          "name": "stdout",
          "text": [
            "[  1 224 224   3]\n"
          ]
        }
      ]
    },
    {
      "cell_type": "code",
      "source": [
        "input_data = image"
      ],
      "metadata": {
        "id": "8qEL5KJt5nbc"
      },
      "execution_count": null,
      "outputs": []
    },
    {
      "cell_type": "code",
      "source": [
        "time_before=time()\n",
        "interpreter.invoke()\n",
        "time_after=time()\n",
        "total_tflite_time = time_after - time_before\n",
        "print(\"Total prediction time for tflite without opt model is: \", total_tflite_time)\n",
        "\n",
        "output_data_tflite = interpreter.get_tensor(output_details[0]['index'])\n",
        "print(\"The tflite w/o opt prediction for this image is: \", output_data_tflite)\n"
      ],
      "metadata": {
        "colab": {
          "base_uri": "https://localhost:8080/"
        },
        "id": "kqoGkXw15y1w",
        "outputId": "4d93e087-41d8-4ae8-cfd0-4a552238219b"
      },
      "execution_count": null,
      "outputs": [
        {
          "output_type": "stream",
          "name": "stdout",
          "text": [
            "Total prediction time for tflite without opt model is:  0.01718449592590332\n",
            "The tflite w/o opt prediction for this image is:  [[2.415791e-15]]\n"
          ]
        }
      ]
    },
    {
      "cell_type": "markdown",
      "source": [
        "## PREDICTION USING TFLITE WITH OPT"
      ],
      "metadata": {
        "id": "WPD6jdRJ7Ssl"
      }
    },
    {
      "cell_type": "code",
      "source": [
        "tflite_optimized_size = os.path.getsize(\"/content/gdrive/MyDrive/datasets/model/model_EBlink_optimize.tflite\")/1048576  #Convert to MB\n",
        "print(\"tflite Model with optimization size is: \", tflite_optimized_size, \"MB\")\n",
        "#Optimized using default optimization strategy (file size = 135MB). Taking about 39 seconds for prediction\n",
        "tflite_optimized_model_path = \"/content/gdrive/MyDrive/datasets/model/model_EBlink_optimize.tflite\"\n",
        "\n",
        "\n",
        "# Load the TFLite model and allocate tensors.\n",
        "interpreter = tf.lite.Interpreter(model_path=tflite_optimized_model_path)\n",
        "interpreter.allocate_tensors()\n",
        "\n",
        "# Get input and output tensors.\n",
        "input_details = interpreter.get_input_details()\n",
        "output_details = interpreter.get_output_details()\n",
        "\n",
        "# Test the model on input data.\n",
        "input_shape = input_details[0]['shape']\n",
        "print(input_shape)\n",
        "\n",
        "# Load image\n",
        "input_data = image\n",
        "\n",
        "interpreter.set_tensor(input_details[0]['index'], input_data)\n",
        "\n",
        "time_before=time()\n",
        "interpreter.invoke()\n",
        "time_after=time()\n",
        "total_tflite_opt_time = time_after - time_before\n",
        "print(\"Total prediction time for tflite model with opt is: \", total_tflite_opt_time)\n",
        "\n",
        "output_data_tflite_opt = interpreter.get_tensor(output_details[0]['index'])\n",
        "print(\"The tflite with opt prediction for this image is: \", output_data_tflite_opt, \" 0=Uninfected, 1=Parasited\")\n"
      ],
      "metadata": {
        "colab": {
          "base_uri": "https://localhost:8080/"
        },
        "id": "Q9kWrbtf6LM7",
        "outputId": "30a1099d-aa91-4cdf-b096-5829b378a440"
      },
      "execution_count": null,
      "outputs": [
        {
          "output_type": "stream",
          "name": "stdout",
          "text": [
            "tflite Model with optimization size is:  2.6606826782226562 MB\n",
            "[  1 224 224   3]\n",
            "Total prediction time for tflite model with opt is:  0.023905277252197266\n",
            "The tflite with opt prediction for this image is:  [[1.]]  0=Uninfected, 1=Parasited\n"
          ]
        }
      ]
    },
    {
      "cell_type": "code",
      "source": [
        "#Summary\n",
        "print(\"###############################################\")\n",
        "print(\"Keras Model size is: \", keras_model_size)\n",
        "print(\"tflite Model without opt. size is: \", tflite_path)\n",
        "print(\"tflite Model with optimization size is: \", tflite_optimized_size)\n",
        "print(\"________________________________________________\")\n",
        "print(\"Total prediction time for keras model is: \", total_keras_time)\n",
        "print(\"Total prediction time for tflite without opt model is: \", total_tflite_time)\n",
        "print(\"Total prediction time for tflite model with opt is: \", total_tflite_opt_time)\n",
        "print(\"________________________________________________\")\n",
        "print(\"The keras prediction for this image is: \", keras_prediction)\n",
        "print(\"The tflite w/o opt prediction for this image is: \", output_data_tflite)\n",
        "print(\"The tflite with opt prediction for this image is: \", output_data_tflite_opt)"
      ],
      "metadata": {
        "colab": {
          "base_uri": "https://localhost:8080/"
        },
        "id": "mkX6X6466DMk",
        "outputId": "931a824d-3083-486a-e62f-29242711ad5c"
      },
      "execution_count": null,
      "outputs": [
        {
          "output_type": "stream",
          "name": "stdout",
          "text": [
            "###############################################\n",
            "Keras Model size is:  31.901939392089844\n",
            "tflite Model without opt. size is:  10.621261596679688\n",
            "tflite Model with optimization size is:  2.6606826782226562\n",
            "________________________________________________\n",
            "Total prediction time for keras model is:  2.2072315216064453\n",
            "Total prediction time for tflite without opt model is:  0.01718449592590332\n",
            "Total prediction time for tflite model with opt is:  0.023905277252197266\n",
            "________________________________________________\n",
            "The keras prediction for this image is:  [[1.]]\n",
            "The tflite w/o opt prediction for this image is:  [[2.415791e-15]]\n",
            "The tflite with opt prediction for this image is:  [[1.]]\n"
          ]
        }
      ]
    }
  ]
}